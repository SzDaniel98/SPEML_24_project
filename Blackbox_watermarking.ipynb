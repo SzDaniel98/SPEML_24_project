{
 "cells": [
  {
   "cell_type": "code",
   "outputs": [],
   "source": [
    "# pip install --upgrade keras"
   ],
   "metadata": {
    "collapsed": false
   },
   "id": "50799432384c6f5e"
  },
  {
   "cell_type": "code",
   "outputs": [],
   "source": [
    "# import keras\n",
    "# print(keras.__version__)"
   ],
   "metadata": {
    "collapsed": false
   },
   "id": "7ea5b51e42cd7a81"
  },
  {
   "cell_type": "code",
   "execution_count": null,
   "id": "initial_id",
   "metadata": {
    "collapsed": true
   },
   "outputs": [],
   "source": [
    "# keras.datasets.fashion_mnist.load_data()"
   ]
  },
  {
   "cell_type": "code",
   "outputs": [],
   "source": [
    "from huggingface_hub import login\n",
    "\n",
    "login()"
   ],
   "metadata": {
    "collapsed": false
   },
   "id": "9fcdb769a594f890"
  },
  {
   "cell_type": "code",
   "outputs": [],
   "source": [
    "from datasets import load_dataset\n",
    "\n",
    "ds = load_dataset(\"zalando-datasets/fashion_mnist\")\n",
    "\n",
    "ds2 = load_dataset(\"uoft-cs/cifar10\")"
   ],
   "metadata": {
    "collapsed": false
   },
   "id": "2491075754de2fd2"
  }
 ],
 "metadata": {
  "kernelspec": {
   "display_name": "Python 3",
   "language": "python",
   "name": "python3"
  },
  "language_info": {
   "codemirror_mode": {
    "name": "ipython",
    "version": 2
   },
   "file_extension": ".py",
   "mimetype": "text/x-python",
   "name": "python",
   "nbconvert_exporter": "python",
   "pygments_lexer": "ipython2",
   "version": "2.7.6"
  }
 },
 "nbformat": 4,
 "nbformat_minor": 5
}
